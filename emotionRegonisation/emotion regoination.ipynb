{
 "cells": [
  {
   "cell_type": "code",
   "execution_count": 1,
   "metadata": {
    "ExecuteTime": {
     "end_time": "2022-10-20T18:04:57.888291Z",
     "start_time": "2022-10-20T18:04:57.518223Z"
    },
    "_cell_guid": "b1076dfc-b9ad-4769-8c92-a6c4dae69d19",
    "_kg_hide-output": false,
    "_uuid": "8f2839f25d086af736a60e9eeb907d3b93b6e0e5",
    "execution": {
     "iopub.execute_input": "2022-08-01T16:07:14.132828Z",
     "iopub.status.busy": "2022-08-01T16:07:14.132222Z",
     "iopub.status.idle": "2022-08-01T16:07:14.138723Z",
     "shell.execute_reply": "2022-08-01T16:07:14.137450Z",
     "shell.execute_reply.started": "2022-08-01T16:07:14.132789Z"
    }
   },
   "outputs": [],
   "source": [
    "import numpy as np \n",
    "import pandas as pd \n",
    "import os"
   ]
  },
  {
   "cell_type": "markdown",
   "metadata": {},
   "source": [
    "# Define train and test paths"
   ]
  },
  {
   "cell_type": "code",
   "execution_count": 6,
   "metadata": {
    "ExecuteTime": {
     "end_time": "2022-10-20T18:13:47.945344Z",
     "start_time": "2022-10-20T18:13:47.941354Z"
    },
    "execution": {
     "iopub.execute_input": "2022-08-01T16:07:17.360516Z",
     "iopub.status.busy": "2022-08-01T16:07:17.359860Z",
     "iopub.status.idle": "2022-08-01T16:07:17.365483Z",
     "shell.execute_reply": "2022-08-01T16:07:17.364157Z",
     "shell.execute_reply.started": "2022-08-01T16:07:17.360477Z"
    }
   },
   "outputs": [],
   "source": [
    "train_path='X:/AI/projects/emotionRegonisation/train'\n",
    "test_path='X:/AI/projects/emotionRegonisation/test'"
   ]
  },
  {
   "cell_type": "markdown",
   "metadata": {},
   "source": [
    "# Importing Libraries"
   ]
  },
  {
   "cell_type": "code",
   "execution_count": 7,
   "metadata": {
    "ExecuteTime": {
     "end_time": "2022-10-20T18:13:48.898336Z",
     "start_time": "2022-10-20T18:13:48.894347Z"
    },
    "execution": {
     "iopub.execute_input": "2022-08-01T16:07:20.454743Z",
     "iopub.status.busy": "2022-08-01T16:07:20.454395Z",
     "iopub.status.idle": "2022-08-01T16:07:20.461055Z",
     "shell.execute_reply": "2022-08-01T16:07:20.459912Z",
     "shell.execute_reply.started": "2022-08-01T16:07:20.454712Z"
    }
   },
   "outputs": [],
   "source": [
    "import tensorflow\n",
    "from tensorflow import keras\n",
    "from tensorflow.keras import Sequential\n",
    "from tensorflow.keras.layers import Dense,Flatten,MaxPool2D,Conv2D,Dropout,MaxPooling2D,BatchNormalization\n",
    "from tensorflow.keras.preprocessing import image_dataset_from_directory\n",
    "from tensorflow.keras.preprocessing.image import ImageDataGenerator\n",
    "from keras import regularizers"
   ]
  },
  {
   "cell_type": "code",
   "execution_count": 8,
   "metadata": {
    "ExecuteTime": {
     "end_time": "2022-10-20T18:13:49.800533Z",
     "start_time": "2022-10-20T18:13:49.797524Z"
    },
    "execution": {
     "iopub.execute_input": "2022-08-01T16:07:24.177698Z",
     "iopub.status.busy": "2022-08-01T16:07:24.177352Z",
     "iopub.status.idle": "2022-08-01T16:07:24.183652Z",
     "shell.execute_reply": "2022-08-01T16:07:24.182549Z",
     "shell.execute_reply.started": "2022-08-01T16:07:24.177667Z"
    }
   },
   "outputs": [],
   "source": [
    "# create objects for Data Generation\n",
    "train_datagen=ImageDataGenerator(rescale=1/255,shear_range=0.2,zoom_range=0.2,horizontal_flip=True)\n",
    "test_datagen=ImageDataGenerator(rescale=1/255)"
   ]
  },
  {
   "cell_type": "code",
   "execution_count": 9,
   "metadata": {
    "ExecuteTime": {
     "end_time": "2022-10-20T18:13:51.478227Z",
     "start_time": "2022-10-20T18:13:50.333929Z"
    },
    "execution": {
     "iopub.execute_input": "2022-08-01T16:07:28.283952Z",
     "iopub.status.busy": "2022-08-01T16:07:28.283528Z",
     "iopub.status.idle": "2022-08-01T16:07:34.832332Z",
     "shell.execute_reply": "2022-08-01T16:07:34.831299Z",
     "shell.execute_reply.started": "2022-08-01T16:07:28.283900Z"
    }
   },
   "outputs": [
    {
     "name": "stdout",
     "output_type": "stream",
     "text": [
      "Found 28709 images belonging to 7 classes.\n",
      "Found 7178 images belonging to 7 classes.\n"
     ]
    }
   ],
   "source": [
    "# Augmenting train and test\n",
    "train_set=train_datagen.flow_from_directory(train_path,\n",
    "                                             target_size=(72,72),\n",
    "                                             batch_size=32,\n",
    "                                             color_mode='grayscale',\n",
    "                                             class_mode='categorical')\n",
    "test_set=test_datagen.flow_from_directory(test_path,\n",
    "                                             target_size=(72,72),\n",
    "                                             batch_size=32,\n",
    "                                             color_mode='grayscale',\n",
    "                                             class_mode='categorical')"
   ]
  },
  {
   "cell_type": "code",
   "execution_count": 10,
   "metadata": {
    "ExecuteTime": {
     "end_time": "2022-10-20T18:14:03.738248Z",
     "start_time": "2022-10-20T18:14:03.728302Z"
    },
    "execution": {
     "iopub.execute_input": "2022-08-01T16:07:40.282760Z",
     "iopub.status.busy": "2022-08-01T16:07:40.281767Z",
     "iopub.status.idle": "2022-08-01T16:07:40.289632Z",
     "shell.execute_reply": "2022-08-01T16:07:40.288661Z",
     "shell.execute_reply.started": "2022-08-01T16:07:40.282712Z"
    }
   },
   "outputs": [
    {
     "data": {
      "text/plain": [
       "{'angry': 0,\n",
       " 'disgust': 1,\n",
       " 'fear': 2,\n",
       " 'happy': 3,\n",
       " 'neutral': 4,\n",
       " 'sad': 5,\n",
       " 'surprise': 6}"
      ]
     },
     "execution_count": 10,
     "metadata": {},
     "output_type": "execute_result"
    }
   ],
   "source": [
    "train_set.class_indices"
   ]
  },
  {
   "cell_type": "code",
   "execution_count": 11,
   "metadata": {
    "ExecuteTime": {
     "end_time": "2022-10-20T18:14:03.784153Z",
     "start_time": "2022-10-20T18:14:03.739245Z"
    },
    "execution": {
     "iopub.execute_input": "2022-08-01T16:07:43.002971Z",
     "iopub.status.busy": "2022-08-01T16:07:43.002070Z",
     "iopub.status.idle": "2022-08-01T16:07:43.057049Z",
     "shell.execute_reply": "2022-08-01T16:07:43.055952Z",
     "shell.execute_reply.started": "2022-08-01T16:07:43.002926Z"
    }
   },
   "outputs": [
    {
     "name": "stdout",
     "output_type": "stream",
     "text": [
      "(32, 72, 72, 1)\n"
     ]
    }
   ],
   "source": [
    "# See the shape of any data\n",
    "train_sample=next(train_set)\n",
    "print(train_sample[0].shape)"
   ]
  },
  {
   "cell_type": "markdown",
   "metadata": {},
   "source": [
    "# Model Creation"
   ]
  },
  {
   "cell_type": "code",
   "execution_count": 12,
   "metadata": {
    "ExecuteTime": {
     "end_time": "2022-10-20T18:14:04.387465Z",
     "start_time": "2022-10-20T18:14:03.785123Z"
    },
    "execution": {
     "iopub.execute_input": "2022-08-01T16:08:40.131815Z",
     "iopub.status.busy": "2022-08-01T16:08:40.131469Z",
     "iopub.status.idle": "2022-08-01T16:08:40.220959Z",
     "shell.execute_reply": "2022-08-01T16:08:40.220015Z",
     "shell.execute_reply.started": "2022-08-01T16:08:40.131782Z"
    }
   },
   "outputs": [],
   "source": [
    "model=Sequential()\n",
    "\n",
    "model.add(Conv2D(32, kernel_size=(2, 2), padding='same', activation='relu', input_shape =(72,72,1)))\n",
    "model.add(Conv2D(64, kernel_size=(2, 2), activation='relu', padding='same'))\n",
    "model.add(BatchNormalization())\n",
    "model.add(MaxPooling2D(2, 2))\n",
    "model.add(Dropout(0.30))\n",
    "\n",
    "model.add(Conv2D(128, kernel_size=(2, 2), activation='relu', padding='same'))\n",
    "model.add(Conv2D(256, kernel_size=(2, 2), activation='relu'))\n",
    "model.add(BatchNormalization())\n",
    "model.add(MaxPooling2D((2, 2)))\n",
    "model.add(Dropout(0.30))\n",
    "\n",
    "model.add(Flatten())\n",
    "model.add(Dense(1024, activation='relu'))\n",
    "model.add(Dropout(0.30))\n",
    "\n",
    "#model.add(Dense(256, activation='tanh'))\n",
    "#model.add(Dropout(0.25))\n",
    "\n",
    "#model.add(Dense(128, activation='relu'))\n",
    "#model.add(Dropout(0.25))\n",
    "\n",
    "    \n",
    "model.add(Dense(7, activation='softmax'))"
   ]
  },
  {
   "cell_type": "code",
   "execution_count": 13,
   "metadata": {
    "ExecuteTime": {
     "end_time": "2022-10-20T18:14:04.402436Z",
     "start_time": "2022-10-20T18:14:04.389424Z"
    },
    "execution": {
     "iopub.execute_input": "2022-08-01T16:08:46.339027Z",
     "iopub.status.busy": "2022-08-01T16:08:46.338635Z",
     "iopub.status.idle": "2022-08-01T16:08:46.351013Z",
     "shell.execute_reply": "2022-08-01T16:08:46.350088Z",
     "shell.execute_reply.started": "2022-08-01T16:08:46.338993Z"
    }
   },
   "outputs": [],
   "source": [
    "model.compile(optimizer='adam',loss='categorical_crossentropy',metrics=['accuracy'])"
   ]
  },
  {
   "cell_type": "code",
   "execution_count": 14,
   "metadata": {
    "ExecuteTime": {
     "end_time": "2022-10-20T18:14:04.421340Z",
     "start_time": "2022-10-20T18:14:04.403387Z"
    },
    "execution": {
     "iopub.execute_input": "2022-08-01T16:08:49.884907Z",
     "iopub.status.busy": "2022-08-01T16:08:49.884542Z",
     "iopub.status.idle": "2022-08-01T16:08:49.892091Z",
     "shell.execute_reply": "2022-08-01T16:08:49.891087Z",
     "shell.execute_reply.started": "2022-08-01T16:08:49.884860Z"
    }
   },
   "outputs": [
    {
     "name": "stdout",
     "output_type": "stream",
     "text": [
      "Model: \"sequential\"\n",
      "_________________________________________________________________\n",
      " Layer (type)                Output Shape              Param #   \n",
      "=================================================================\n",
      " conv2d (Conv2D)             (None, 72, 72, 32)        160       \n",
      "                                                                 \n",
      " conv2d_1 (Conv2D)           (None, 72, 72, 64)        8256      \n",
      "                                                                 \n",
      " batch_normalization (BatchN  (None, 72, 72, 64)       256       \n",
      " ormalization)                                                   \n",
      "                                                                 \n",
      " max_pooling2d (MaxPooling2D  (None, 36, 36, 64)       0         \n",
      " )                                                               \n",
      "                                                                 \n",
      " dropout (Dropout)           (None, 36, 36, 64)        0         \n",
      "                                                                 \n",
      " conv2d_2 (Conv2D)           (None, 36, 36, 128)       32896     \n",
      "                                                                 \n",
      " conv2d_3 (Conv2D)           (None, 35, 35, 256)       131328    \n",
      "                                                                 \n",
      " batch_normalization_1 (Batc  (None, 35, 35, 256)      1024      \n",
      " hNormalization)                                                 \n",
      "                                                                 \n",
      " max_pooling2d_1 (MaxPooling  (None, 17, 17, 256)      0         \n",
      " 2D)                                                             \n",
      "                                                                 \n",
      " dropout_1 (Dropout)         (None, 17, 17, 256)       0         \n",
      "                                                                 \n",
      " flatten (Flatten)           (None, 73984)             0         \n",
      "                                                                 \n",
      " dense (Dense)               (None, 1024)              75760640  \n",
      "                                                                 \n",
      " dropout_2 (Dropout)         (None, 1024)              0         \n",
      "                                                                 \n",
      " dense_1 (Dense)             (None, 7)                 7175      \n",
      "                                                                 \n",
      "=================================================================\n",
      "Total params: 75,941,735\n",
      "Trainable params: 75,941,095\n",
      "Non-trainable params: 640\n",
      "_________________________________________________________________\n"
     ]
    }
   ],
   "source": [
    "model.summary()"
   ]
  },
  {
   "cell_type": "markdown",
   "metadata": {},
   "source": [
    "# Early Stopping"
   ]
  },
  {
   "cell_type": "code",
   "execution_count": 15,
   "metadata": {
    "ExecuteTime": {
     "end_time": "2022-10-20T18:14:04.426327Z",
     "start_time": "2022-10-20T18:14:04.422336Z"
    },
    "execution": {
     "iopub.execute_input": "2022-08-01T16:08:56.721404Z",
     "iopub.status.busy": "2022-08-01T16:08:56.720806Z",
     "iopub.status.idle": "2022-08-01T16:08:56.725689Z",
     "shell.execute_reply": "2022-08-01T16:08:56.724697Z",
     "shell.execute_reply.started": "2022-08-01T16:08:56.721367Z"
    }
   },
   "outputs": [],
   "source": [
    "from tensorflow.keras.callbacks import EarlyStopping"
   ]
  },
  {
   "cell_type": "code",
   "execution_count": 16,
   "metadata": {
    "ExecuteTime": {
     "end_time": "2022-10-20T18:14:04.436300Z",
     "start_time": "2022-10-20T18:14:04.427325Z"
    },
    "execution": {
     "iopub.execute_input": "2022-08-01T16:09:05.084050Z",
     "iopub.status.busy": "2022-08-01T16:09:05.082951Z",
     "iopub.status.idle": "2022-08-01T16:09:05.091431Z",
     "shell.execute_reply": "2022-08-01T16:09:05.088339Z",
     "shell.execute_reply.started": "2022-08-01T16:09:05.084010Z"
    }
   },
   "outputs": [],
   "source": [
    "early=EarlyStopping(monitor='val_accuracy',patience=5,restore_best_weights=True,verbose=1,min_delta=0.001)"
   ]
  },
  {
   "cell_type": "code",
   "execution_count": null,
   "metadata": {
    "ExecuteTime": {
     "start_time": "2022-10-20T18:18:12.901Z"
    },
    "execution": {
     "iopub.execute_input": "2022-08-01T16:09:11.175463Z",
     "iopub.status.busy": "2022-08-01T16:09:11.175004Z",
     "iopub.status.idle": "2022-08-01T17:58:23.540687Z",
     "shell.execute_reply": "2022-08-01T17:58:23.539704Z",
     "shell.execute_reply.started": "2022-08-01T16:09:11.175403Z"
    }
   },
   "outputs": [
    {
     "name": "stdout",
     "output_type": "stream",
     "text": [
      "Epoch 1/20\n",
      "898/898 [==============================] - 797s 887ms/step - loss: 1.7166 - accuracy: 0.3060 - val_loss: 1.5882 - val_accuracy: 0.3686\n",
      "Epoch 2/20\n",
      "898/898 [==============================] - 794s 884ms/step - loss: 1.6323 - accuracy: 0.3491 - val_loss: 2.1453 - val_accuracy: 0.3291\n",
      "Epoch 3/20\n",
      "898/898 [==============================] - 772s 859ms/step - loss: 1.5938 - accuracy: 0.3684 - val_loss: 1.6094 - val_accuracy: 0.3810\n",
      "Epoch 4/20\n",
      "898/898 [==============================] - 818s 911ms/step - loss: 1.5559 - accuracy: 0.3875 - val_loss: 1.6275 - val_accuracy: 0.3672\n",
      "Epoch 5/20\n",
      "643/898 [====================>.........] - ETA: 3:53 - loss: 1.5316 - accuracy: 0.3988"
     ]
    }
   ],
   "source": [
    "history=model.fit(train_set,epochs=20,validation_data=test_set,batch_size=32)"
   ]
  },
  {
   "cell_type": "markdown",
   "metadata": {},
   "source": [
    "# Plotting the accuracy and losses epochwise"
   ]
  },
  {
   "cell_type": "code",
   "execution_count": null,
   "metadata": {
    "ExecuteTime": {
     "start_time": "2022-10-20T18:18:13.894Z"
    },
    "execution": {
     "iopub.execute_input": "2022-08-01T18:07:52.459005Z",
     "iopub.status.busy": "2022-08-01T18:07:52.458638Z",
     "iopub.status.idle": "2022-08-01T18:07:52.465955Z",
     "shell.execute_reply": "2022-08-01T18:07:52.464646Z",
     "shell.execute_reply.started": "2022-08-01T18:07:52.458975Z"
    }
   },
   "outputs": [],
   "source": [
    "# we get the dictionary 'history'\n",
    "history.history.keys()"
   ]
  },
  {
   "cell_type": "code",
   "execution_count": null,
   "metadata": {
    "ExecuteTime": {
     "start_time": "2022-10-20T18:18:13.955Z"
    },
    "execution": {
     "iopub.execute_input": "2022-08-01T18:07:52.477330Z",
     "iopub.status.busy": "2022-08-01T18:07:52.476460Z",
     "iopub.status.idle": "2022-08-01T18:07:52.482340Z",
     "shell.execute_reply": "2022-08-01T18:07:52.481527Z",
     "shell.execute_reply.started": "2022-08-01T18:07:52.477293Z"
    }
   },
   "outputs": [],
   "source": [
    "import matplotlib.pyplot as plt"
   ]
  },
  {
   "cell_type": "code",
   "execution_count": null,
   "metadata": {
    "ExecuteTime": {
     "start_time": "2022-10-20T18:18:14.030Z"
    },
    "execution": {
     "iopub.execute_input": "2022-08-01T18:07:52.487574Z",
     "iopub.status.busy": "2022-08-01T18:07:52.487201Z",
     "iopub.status.idle": "2022-08-01T18:07:52.823236Z",
     "shell.execute_reply": "2022-08-01T18:07:52.822254Z",
     "shell.execute_reply.started": "2022-08-01T18:07:52.487538Z"
    }
   },
   "outputs": [],
   "source": [
    "fig,ax=plt.subplots(1,2,figsize=(10,5))\n",
    "\n",
    "ax[0].plot(history.history['loss'],label='training')\n",
    "ax[0].plot(history.history['val_loss'],label='validation')\n",
    "ax[0].legend()\n",
    "ax[0].set_title('Loss with epochs')\n",
    "\n",
    "ax[1].plot(history.history['accuracy'],label='training')\n",
    "ax[1].plot(history.history['val_accuracy'],label='validation')\n",
    "ax[1].legend()\n",
    "ax[1].set_title('Accuracy with epochs')"
   ]
  },
  {
   "cell_type": "markdown",
   "metadata": {},
   "source": [
    "# Saving the model"
   ]
  },
  {
   "cell_type": "code",
   "execution_count": null,
   "metadata": {
    "ExecuteTime": {
     "start_time": "2022-10-20T18:18:14.157Z"
    },
    "execution": {
     "iopub.execute_input": "2022-08-01T18:07:52.825967Z",
     "iopub.status.busy": "2022-08-01T18:07:52.825300Z",
     "iopub.status.idle": "2022-08-01T18:07:54.732155Z",
     "shell.execute_reply": "2022-08-01T18:07:54.731021Z",
     "shell.execute_reply.started": "2022-08-01T18:07:52.825923Z"
    }
   },
   "outputs": [],
   "source": [
    "model.save('fer_abhigyan.h5')"
   ]
  },
  {
   "cell_type": "markdown",
   "metadata": {},
   "source": [
    "# Test Image"
   ]
  },
  {
   "cell_type": "code",
   "execution_count": null,
   "metadata": {
    "ExecuteTime": {
     "start_time": "2022-10-20T18:18:14.263Z"
    },
    "execution": {
     "iopub.execute_input": "2022-08-01T18:07:54.739809Z",
     "iopub.status.busy": "2022-08-01T18:07:54.737259Z",
     "iopub.status.idle": "2022-08-01T18:07:54.746778Z",
     "shell.execute_reply": "2022-08-01T18:07:54.745540Z",
     "shell.execute_reply.started": "2022-08-01T18:07:54.739769Z"
    }
   },
   "outputs": [],
   "source": [
    "from tensorflow.keras.preprocessing import image"
   ]
  },
  {
   "cell_type": "code",
   "execution_count": null,
   "metadata": {
    "ExecuteTime": {
     "start_time": "2022-10-20T18:18:14.361Z"
    },
    "execution": {
     "iopub.execute_input": "2022-08-01T18:11:25.738040Z",
     "iopub.status.busy": "2022-08-01T18:11:25.737665Z",
     "iopub.status.idle": "2022-08-01T18:11:25.745996Z",
     "shell.execute_reply": "2022-08-01T18:11:25.744944Z",
     "shell.execute_reply.started": "2022-08-01T18:11:25.738010Z"
    }
   },
   "outputs": [],
   "source": [
    "img_path='../input/fer2013/test/happy/PrivateTest_10736786.jpg'\n",
    "test_image=image.load_img(img_path,target_size=(72,72),color_mode='grayscale')"
   ]
  },
  {
   "cell_type": "code",
   "execution_count": null,
   "metadata": {
    "ExecuteTime": {
     "start_time": "2022-10-20T18:18:14.456Z"
    },
    "execution": {
     "iopub.execute_input": "2022-08-01T18:11:25.816355Z",
     "iopub.status.busy": "2022-08-01T18:11:25.815690Z",
     "iopub.status.idle": "2022-08-01T18:11:25.824384Z",
     "shell.execute_reply": "2022-08-01T18:11:25.823459Z",
     "shell.execute_reply.started": "2022-08-01T18:11:25.816313Z"
    }
   },
   "outputs": [],
   "source": [
    "type(test_image)"
   ]
  },
  {
   "cell_type": "code",
   "execution_count": null,
   "metadata": {
    "ExecuteTime": {
     "start_time": "2022-10-20T18:18:14.519Z"
    },
    "execution": {
     "iopub.execute_input": "2022-08-01T18:11:25.889536Z",
     "iopub.status.busy": "2022-08-01T18:11:25.888734Z",
     "iopub.status.idle": "2022-08-01T18:11:25.894985Z",
     "shell.execute_reply": "2022-08-01T18:11:25.893791Z",
     "shell.execute_reply.started": "2022-08-01T18:11:25.889489Z"
    }
   },
   "outputs": [],
   "source": [
    "test_image=image.img_to_array(test_image)"
   ]
  },
  {
   "cell_type": "code",
   "execution_count": null,
   "metadata": {
    "ExecuteTime": {
     "start_time": "2022-10-20T18:18:14.586Z"
    },
    "execution": {
     "iopub.execute_input": "2022-08-01T18:11:25.936331Z",
     "iopub.status.busy": "2022-08-01T18:11:25.934530Z",
     "iopub.status.idle": "2022-08-01T18:11:26.114120Z",
     "shell.execute_reply": "2022-08-01T18:11:26.113135Z",
     "shell.execute_reply.started": "2022-08-01T18:11:25.936291Z"
    }
   },
   "outputs": [],
   "source": [
    "print(test_image.shape)\n",
    "plt.imshow(test_image)"
   ]
  },
  {
   "cell_type": "markdown",
   "metadata": {},
   "source": [
    "## Input to model : (batch_size,row,col,rgb) ---> (1,48,48,1) for 1 image"
   ]
  },
  {
   "cell_type": "code",
   "execution_count": null,
   "metadata": {
    "ExecuteTime": {
     "start_time": "2022-10-20T18:18:14.714Z"
    },
    "execution": {
     "iopub.execute_input": "2022-08-01T18:11:26.116752Z",
     "iopub.status.busy": "2022-08-01T18:11:26.116349Z",
     "iopub.status.idle": "2022-08-01T18:11:26.122101Z",
     "shell.execute_reply": "2022-08-01T18:11:26.121158Z",
     "shell.execute_reply.started": "2022-08-01T18:11:26.116715Z"
    }
   },
   "outputs": [],
   "source": [
    "test_image=test_image.reshape(1,72,72,1)"
   ]
  },
  {
   "cell_type": "markdown",
   "metadata": {},
   "source": [
    "# Prediction"
   ]
  },
  {
   "cell_type": "code",
   "execution_count": null,
   "metadata": {
    "ExecuteTime": {
     "start_time": "2022-10-20T18:18:14.846Z"
    },
    "execution": {
     "iopub.execute_input": "2022-08-01T18:11:26.124121Z",
     "iopub.status.busy": "2022-08-01T18:11:26.123512Z",
     "iopub.status.idle": "2022-08-01T18:11:26.132278Z",
     "shell.execute_reply": "2022-08-01T18:11:26.131397Z",
     "shell.execute_reply.started": "2022-08-01T18:11:26.124083Z"
    }
   },
   "outputs": [],
   "source": [
    "classes=['Angry','Disgust','Fear','Happy','Neutral','Sad','Surprise']"
   ]
  },
  {
   "cell_type": "code",
   "execution_count": null,
   "metadata": {
    "ExecuteTime": {
     "start_time": "2022-10-20T18:18:14.922Z"
    },
    "execution": {
     "iopub.execute_input": "2022-08-01T18:11:26.135447Z",
     "iopub.status.busy": "2022-08-01T18:11:26.134680Z",
     "iopub.status.idle": "2022-08-01T18:11:26.182200Z",
     "shell.execute_reply": "2022-08-01T18:11:26.181239Z",
     "shell.execute_reply.started": "2022-08-01T18:11:26.135354Z"
    }
   },
   "outputs": [],
   "source": [
    "result=model.predict(test_image)"
   ]
  },
  {
   "cell_type": "code",
   "execution_count": null,
   "metadata": {
    "ExecuteTime": {
     "start_time": "2022-10-20T18:18:15.443Z"
    },
    "execution": {
     "iopub.execute_input": "2022-08-01T18:11:26.184054Z",
     "iopub.status.busy": "2022-08-01T18:11:26.183705Z",
     "iopub.status.idle": "2022-08-01T18:11:26.190460Z",
     "shell.execute_reply": "2022-08-01T18:11:26.189433Z",
     "shell.execute_reply.started": "2022-08-01T18:11:26.184019Z"
    }
   },
   "outputs": [],
   "source": [
    "result[0]"
   ]
  },
  {
   "cell_type": "code",
   "execution_count": null,
   "metadata": {
    "ExecuteTime": {
     "start_time": "2022-10-20T18:18:15.955Z"
    },
    "execution": {
     "iopub.execute_input": "2022-08-01T18:11:26.193369Z",
     "iopub.status.busy": "2022-08-01T18:11:26.192701Z",
     "iopub.status.idle": "2022-08-01T18:11:26.200401Z",
     "shell.execute_reply": "2022-08-01T18:11:26.199318Z",
     "shell.execute_reply.started": "2022-08-01T18:11:26.193328Z"
    }
   },
   "outputs": [],
   "source": [
    "y_pred=np.argmax(result[0])\n",
    "print('The person is ',classes[y_pred])"
   ]
  }
 ],
 "metadata": {
  "kernelspec": {
   "display_name": "Python 3 (ipykernel)",
   "language": "python",
   "name": "python3"
  },
  "language_info": {
   "codemirror_mode": {
    "name": "ipython",
    "version": 3
   },
   "file_extension": ".py",
   "mimetype": "text/x-python",
   "name": "python",
   "nbconvert_exporter": "python",
   "pygments_lexer": "ipython3",
   "version": "3.9.7"
  }
 },
 "nbformat": 4,
 "nbformat_minor": 4
}
