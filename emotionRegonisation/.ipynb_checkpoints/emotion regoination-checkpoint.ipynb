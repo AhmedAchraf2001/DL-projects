{
 "cells": [
  {
   "cell_type": "code",
   "execution_count": 1,
   "metadata": {
    "ExecuteTime": {
     "end_time": "2022-10-20T18:04:57.888291Z",
     "start_time": "2022-10-20T18:04:57.518223Z"
    },
    "_cell_guid": "b1076dfc-b9ad-4769-8c92-a6c4dae69d19",
    "_kg_hide-output": false,
    "_uuid": "8f2839f25d086af736a60e9eeb907d3b93b6e0e5",
    "execution": {
     "iopub.execute_input": "2022-08-01T16:07:14.132828Z",
     "iopub.status.busy": "2022-08-01T16:07:14.132222Z",
     "iopub.status.idle": "2022-08-01T16:07:14.138723Z",
     "shell.execute_reply": "2022-08-01T16:07:14.137450Z",
     "shell.execute_reply.started": "2022-08-01T16:07:14.132789Z"
    }
   },
   "outputs": [],
   "source": [
    "# This Python 3 environment comes with many helpful analytics libraries installed\n",
    "# It is defined by the kaggle/python Docker image: https://github.com/kaggle/docker-python\n",
    "# For example, here's several helpful packages to load\n",
    "\n",
    "import numpy as np # linear algebra\n",
    "import pandas as pd # data processing, CSV file I/O (e.g. pd.read_csv)\n",
    "\n",
    "# Input data files are available in the read-only \"../input/\" directory\n",
    "# For example, running this (by clicking run or pressing Shift+Enter) will list all files under the input directory\n",
    "\n",
    "import os\n",
    "#for dirname, _, filenames in os.walk('/kaggle/input'):\n",
    "   # for filename in filenames:\n",
    "       # print(os.path.join(dirname, filename))\n",
    "\n",
    "# You can write up to 20GB to the current directory (/kaggle/working/) that gets preserved as output when you create a version using \"Save & Run All\" \n",
    "# You can also write temporary files to /kaggle/temp/, but they won't be saved outside of the current session"
   ]
  },
  {
   "cell_type": "markdown",
   "metadata": {},
   "source": [
    "# Define train and test paths"
   ]
  },
  {
   "cell_type": "code",
   "execution_count": 2,
   "metadata": {
    "ExecuteTime": {
     "end_time": "2022-10-20T18:04:58.153102Z",
     "start_time": "2022-10-20T18:04:58.150109Z"
    },
    "execution": {
     "iopub.execute_input": "2022-08-01T16:07:17.360516Z",
     "iopub.status.busy": "2022-08-01T16:07:17.359860Z",
     "iopub.status.idle": "2022-08-01T16:07:17.365483Z",
     "shell.execute_reply": "2022-08-01T16:07:17.364157Z",
     "shell.execute_reply.started": "2022-08-01T16:07:17.360477Z"
    }
   },
   "outputs": [],
   "source": [
    "train_path='../train'\n",
    "test_path='../test'"
   ]
  },
  {
   "cell_type": "markdown",
   "metadata": {},
   "source": [
    "# Importing Libraries"
   ]
  },
  {
   "cell_type": "code",
   "execution_count": 3,
   "metadata": {
    "ExecuteTime": {
     "end_time": "2022-10-20T18:05:01.509932Z",
     "start_time": "2022-10-20T18:04:58.849319Z"
    },
    "execution": {
     "iopub.execute_input": "2022-08-01T16:07:20.454743Z",
     "iopub.status.busy": "2022-08-01T16:07:20.454395Z",
     "iopub.status.idle": "2022-08-01T16:07:20.461055Z",
     "shell.execute_reply": "2022-08-01T16:07:20.459912Z",
     "shell.execute_reply.started": "2022-08-01T16:07:20.454712Z"
    }
   },
   "outputs": [],
   "source": [
    "import tensorflow\n",
    "from tensorflow import keras\n",
    "from tensorflow.keras import Sequential\n",
    "from tensorflow.keras.layers import Dense,Flatten,MaxPool2D,Conv2D,Dropout,MaxPooling2D,BatchNormalization\n",
    "from tensorflow.keras.preprocessing import image_dataset_from_directory\n",
    "from tensorflow.keras.preprocessing.image import ImageDataGenerator\n",
    "from keras import regularizers"
   ]
  },
  {
   "cell_type": "markdown",
   "metadata": {},
   "source": [
    "# Data Augmentation"
   ]
  },
  {
   "cell_type": "code",
   "execution_count": 4,
   "metadata": {
    "ExecuteTime": {
     "end_time": "2022-10-20T18:05:01.514915Z",
     "start_time": "2022-10-20T18:05:01.510926Z"
    },
    "execution": {
     "iopub.execute_input": "2022-08-01T16:07:24.177698Z",
     "iopub.status.busy": "2022-08-01T16:07:24.177352Z",
     "iopub.status.idle": "2022-08-01T16:07:24.183652Z",
     "shell.execute_reply": "2022-08-01T16:07:24.182549Z",
     "shell.execute_reply.started": "2022-08-01T16:07:24.177667Z"
    }
   },
   "outputs": [],
   "source": [
    "# create objects for Data Generation\n",
    "train_datagen=ImageDataGenerator(rescale=1/255,shear_range=0.2,zoom_range=0.2,horizontal_flip=True)\n",
    "test_datagen=ImageDataGenerator(rescale=1/255)"
   ]
  },
  {
   "cell_type": "code",
   "execution_count": 5,
   "metadata": {
    "ExecuteTime": {
     "end_time": "2022-10-20T18:05:02.790549Z",
     "start_time": "2022-10-20T18:05:01.515914Z"
    },
    "execution": {
     "iopub.execute_input": "2022-08-01T16:07:28.283952Z",
     "iopub.status.busy": "2022-08-01T16:07:28.283528Z",
     "iopub.status.idle": "2022-08-01T16:07:34.832332Z",
     "shell.execute_reply": "2022-08-01T16:07:34.831299Z",
     "shell.execute_reply.started": "2022-08-01T16:07:28.283900Z"
    }
   },
   "outputs": [
    {
     "ename": "FileNotFoundError",
     "evalue": "[WinError 3] The system cannot find the path specified: '../train'",
     "output_type": "error",
     "traceback": [
      "\u001b[1;31m---------------------------------------------------------------------------\u001b[0m",
      "\u001b[1;31mFileNotFoundError\u001b[0m                         Traceback (most recent call last)",
      "\u001b[1;32m~\\AppData\\Local\\Temp/ipykernel_1488/663663359.py\u001b[0m in \u001b[0;36m<module>\u001b[1;34m\u001b[0m\n\u001b[0;32m      1\u001b[0m \u001b[1;31m# Augmenting train and test\u001b[0m\u001b[1;33m\u001b[0m\u001b[1;33m\u001b[0m\u001b[0m\n\u001b[1;32m----> 2\u001b[1;33m train_set=train_datagen.flow_from_directory(train_path,\n\u001b[0m\u001b[0;32m      3\u001b[0m                                              \u001b[0mtarget_size\u001b[0m\u001b[1;33m=\u001b[0m\u001b[1;33m(\u001b[0m\u001b[1;36m72\u001b[0m\u001b[1;33m,\u001b[0m\u001b[1;36m72\u001b[0m\u001b[1;33m)\u001b[0m\u001b[1;33m,\u001b[0m\u001b[1;33m\u001b[0m\u001b[1;33m\u001b[0m\u001b[0m\n\u001b[0;32m      4\u001b[0m                                              \u001b[0mbatch_size\u001b[0m\u001b[1;33m=\u001b[0m\u001b[1;36m32\u001b[0m\u001b[1;33m,\u001b[0m\u001b[1;33m\u001b[0m\u001b[1;33m\u001b[0m\u001b[0m\n\u001b[0;32m      5\u001b[0m                                              \u001b[0mcolor_mode\u001b[0m\u001b[1;33m=\u001b[0m\u001b[1;34m'grayscale'\u001b[0m\u001b[1;33m,\u001b[0m\u001b[1;33m\u001b[0m\u001b[1;33m\u001b[0m\u001b[0m\n",
      "\u001b[1;32m~\\anaconda3\\lib\\site-packages\\keras\\preprocessing\\image.py\u001b[0m in \u001b[0;36mflow_from_directory\u001b[1;34m(self, directory, target_size, color_mode, classes, class_mode, batch_size, shuffle, seed, save_to_dir, save_prefix, save_format, follow_links, subset, interpolation, keep_aspect_ratio)\u001b[0m\n\u001b[0;32m   1648\u001b[0m                 \u001b[1;32mand\u001b[0m\u001b[0;31m \u001b[0m\u001b[0;31m`\u001b[0m\u001b[0my\u001b[0m\u001b[0;31m`\u001b[0m \u001b[1;32mis\u001b[0m \u001b[0ma\u001b[0m \u001b[0mnumpy\u001b[0m \u001b[0marray\u001b[0m \u001b[0mof\u001b[0m \u001b[0mcorresponding\u001b[0m \u001b[0mlabels\u001b[0m\u001b[1;33m.\u001b[0m\u001b[1;33m\u001b[0m\u001b[1;33m\u001b[0m\u001b[0m\n\u001b[0;32m   1649\u001b[0m         \"\"\"\n\u001b[1;32m-> 1650\u001b[1;33m         return DirectoryIterator(\n\u001b[0m\u001b[0;32m   1651\u001b[0m             \u001b[0mdirectory\u001b[0m\u001b[1;33m,\u001b[0m\u001b[1;33m\u001b[0m\u001b[1;33m\u001b[0m\u001b[0m\n\u001b[0;32m   1652\u001b[0m             \u001b[0mself\u001b[0m\u001b[1;33m,\u001b[0m\u001b[1;33m\u001b[0m\u001b[1;33m\u001b[0m\u001b[0m\n",
      "\u001b[1;32m~\\anaconda3\\lib\\site-packages\\keras\\preprocessing\\image.py\u001b[0m in \u001b[0;36m__init__\u001b[1;34m(self, directory, image_data_generator, target_size, color_mode, classes, class_mode, batch_size, shuffle, seed, data_format, save_to_dir, save_prefix, save_format, follow_links, subset, interpolation, keep_aspect_ratio, dtype)\u001b[0m\n\u001b[0;32m    561\u001b[0m         \u001b[1;32mif\u001b[0m \u001b[1;32mnot\u001b[0m \u001b[0mclasses\u001b[0m\u001b[1;33m:\u001b[0m\u001b[1;33m\u001b[0m\u001b[1;33m\u001b[0m\u001b[0m\n\u001b[0;32m    562\u001b[0m             \u001b[0mclasses\u001b[0m \u001b[1;33m=\u001b[0m \u001b[1;33m[\u001b[0m\u001b[1;33m]\u001b[0m\u001b[1;33m\u001b[0m\u001b[1;33m\u001b[0m\u001b[0m\n\u001b[1;32m--> 563\u001b[1;33m             \u001b[1;32mfor\u001b[0m \u001b[0msubdir\u001b[0m \u001b[1;32min\u001b[0m \u001b[0msorted\u001b[0m\u001b[1;33m(\u001b[0m\u001b[0mos\u001b[0m\u001b[1;33m.\u001b[0m\u001b[0mlistdir\u001b[0m\u001b[1;33m(\u001b[0m\u001b[0mdirectory\u001b[0m\u001b[1;33m)\u001b[0m\u001b[1;33m)\u001b[0m\u001b[1;33m:\u001b[0m\u001b[1;33m\u001b[0m\u001b[1;33m\u001b[0m\u001b[0m\n\u001b[0m\u001b[0;32m    564\u001b[0m                 \u001b[1;32mif\u001b[0m \u001b[0mos\u001b[0m\u001b[1;33m.\u001b[0m\u001b[0mpath\u001b[0m\u001b[1;33m.\u001b[0m\u001b[0misdir\u001b[0m\u001b[1;33m(\u001b[0m\u001b[0mos\u001b[0m\u001b[1;33m.\u001b[0m\u001b[0mpath\u001b[0m\u001b[1;33m.\u001b[0m\u001b[0mjoin\u001b[0m\u001b[1;33m(\u001b[0m\u001b[0mdirectory\u001b[0m\u001b[1;33m,\u001b[0m \u001b[0msubdir\u001b[0m\u001b[1;33m)\u001b[0m\u001b[1;33m)\u001b[0m\u001b[1;33m:\u001b[0m\u001b[1;33m\u001b[0m\u001b[1;33m\u001b[0m\u001b[0m\n\u001b[0;32m    565\u001b[0m                     \u001b[0mclasses\u001b[0m\u001b[1;33m.\u001b[0m\u001b[0mappend\u001b[0m\u001b[1;33m(\u001b[0m\u001b[0msubdir\u001b[0m\u001b[1;33m)\u001b[0m\u001b[1;33m\u001b[0m\u001b[1;33m\u001b[0m\u001b[0m\n",
      "\u001b[1;31mFileNotFoundError\u001b[0m: [WinError 3] The system cannot find the path specified: '../train'"
     ]
    }
   ],
   "source": [
    "# Augmenting train and test\n",
    "train_set=train_datagen.flow_from_directory(train_path,\n",
    "                                             target_size=(72,72),\n",
    "                                             batch_size=32,\n",
    "                                             color_mode='grayscale',\n",
    "                                             class_mode='categorical')\n",
    "test_set=test_datagen.flow_from_directory(test_path,\n",
    "                                             target_size=(72,72),\n",
    "                                             batch_size=32,\n",
    "                                             color_mode='grayscale',\n",
    "                                             class_mode='categorical')"
   ]
  },
  {
   "cell_type": "code",
   "execution_count": null,
   "metadata": {
    "ExecuteTime": {
     "end_time": "2022-10-20T18:05:02.791519Z",
     "start_time": "2022-10-20T18:05:02.791519Z"
    },
    "execution": {
     "iopub.execute_input": "2022-08-01T16:07:40.282760Z",
     "iopub.status.busy": "2022-08-01T16:07:40.281767Z",
     "iopub.status.idle": "2022-08-01T16:07:40.289632Z",
     "shell.execute_reply": "2022-08-01T16:07:40.288661Z",
     "shell.execute_reply.started": "2022-08-01T16:07:40.282712Z"
    }
   },
   "outputs": [],
   "source": [
    "train_set.class_indices"
   ]
  },
  {
   "cell_type": "code",
   "execution_count": null,
   "metadata": {
    "ExecuteTime": {
     "end_time": "2022-10-20T18:05:02.792516Z",
     "start_time": "2022-10-20T18:05:02.792516Z"
    },
    "execution": {
     "iopub.execute_input": "2022-08-01T16:07:43.002971Z",
     "iopub.status.busy": "2022-08-01T16:07:43.002070Z",
     "iopub.status.idle": "2022-08-01T16:07:43.057049Z",
     "shell.execute_reply": "2022-08-01T16:07:43.055952Z",
     "shell.execute_reply.started": "2022-08-01T16:07:43.002926Z"
    }
   },
   "outputs": [],
   "source": [
    "# See the shape of any data\n",
    "train_sample=next(train_set)\n",
    "print(train_sample[0].shape)"
   ]
  },
  {
   "cell_type": "markdown",
   "metadata": {},
   "source": [
    "# Model Creation"
   ]
  },
  {
   "cell_type": "code",
   "execution_count": null,
   "metadata": {
    "ExecuteTime": {
     "end_time": "2022-10-20T18:05:02.793514Z",
     "start_time": "2022-10-20T18:05:02.793514Z"
    },
    "execution": {
     "iopub.execute_input": "2022-08-01T16:08:40.131815Z",
     "iopub.status.busy": "2022-08-01T16:08:40.131469Z",
     "iopub.status.idle": "2022-08-01T16:08:40.220959Z",
     "shell.execute_reply": "2022-08-01T16:08:40.220015Z",
     "shell.execute_reply.started": "2022-08-01T16:08:40.131782Z"
    }
   },
   "outputs": [],
   "source": [
    "model=Sequential()\n",
    "\n",
    "model.add(Conv2D(32, kernel_size=(2, 2), padding='same', activation='relu', input_shape =(72,72,1)))\n",
    "model.add(Conv2D(64, kernel_size=(2, 2), activation='relu', padding='same'))\n",
    "model.add(BatchNormalization())\n",
    "model.add(MaxPooling2D(2, 2))\n",
    "model.add(Dropout(0.30))\n",
    "\n",
    "model.add(Conv2D(128, kernel_size=(2, 2), activation='relu', padding='same'))\n",
    "model.add(Conv2D(256, kernel_size=(2, 2), activation='relu'))\n",
    "model.add(BatchNormalization())\n",
    "model.add(MaxPooling2D((2, 2)))\n",
    "model.add(Dropout(0.30))\n",
    "\n",
    "model.add(Flatten())\n",
    "model.add(Dense(1024, activation='relu'))\n",
    "model.add(Dropout(0.30))\n",
    "\n",
    "#model.add(Dense(256, activation='tanh'))\n",
    "#model.add(Dropout(0.25))\n",
    "\n",
    "#model.add(Dense(128, activation='relu'))\n",
    "#model.add(Dropout(0.25))\n",
    "\n",
    "    \n",
    "model.add(Dense(7, activation='softmax'))"
   ]
  },
  {
   "cell_type": "code",
   "execution_count": null,
   "metadata": {
    "ExecuteTime": {
     "end_time": "2022-10-20T18:05:02.793514Z",
     "start_time": "2022-10-20T18:05:02.793514Z"
    },
    "execution": {
     "iopub.execute_input": "2022-08-01T16:08:46.339027Z",
     "iopub.status.busy": "2022-08-01T16:08:46.338635Z",
     "iopub.status.idle": "2022-08-01T16:08:46.351013Z",
     "shell.execute_reply": "2022-08-01T16:08:46.350088Z",
     "shell.execute_reply.started": "2022-08-01T16:08:46.338993Z"
    }
   },
   "outputs": [],
   "source": [
    "model.compile(optimizer='adam',loss='categorical_crossentropy',metrics=['accuracy'])"
   ]
  },
  {
   "cell_type": "code",
   "execution_count": null,
   "metadata": {
    "ExecuteTime": {
     "end_time": "2022-10-20T18:05:02.794511Z",
     "start_time": "2022-10-20T18:05:02.794511Z"
    },
    "execution": {
     "iopub.execute_input": "2022-08-01T16:08:49.884907Z",
     "iopub.status.busy": "2022-08-01T16:08:49.884542Z",
     "iopub.status.idle": "2022-08-01T16:08:49.892091Z",
     "shell.execute_reply": "2022-08-01T16:08:49.891087Z",
     "shell.execute_reply.started": "2022-08-01T16:08:49.884860Z"
    }
   },
   "outputs": [],
   "source": [
    "model.summary()"
   ]
  },
  {
   "cell_type": "markdown",
   "metadata": {},
   "source": [
    "# Early Stopping"
   ]
  },
  {
   "cell_type": "code",
   "execution_count": null,
   "metadata": {
    "ExecuteTime": {
     "end_time": "2022-10-20T18:05:02.795509Z",
     "start_time": "2022-10-20T18:05:02.795509Z"
    },
    "execution": {
     "iopub.execute_input": "2022-08-01T16:08:56.721404Z",
     "iopub.status.busy": "2022-08-01T16:08:56.720806Z",
     "iopub.status.idle": "2022-08-01T16:08:56.725689Z",
     "shell.execute_reply": "2022-08-01T16:08:56.724697Z",
     "shell.execute_reply.started": "2022-08-01T16:08:56.721367Z"
    }
   },
   "outputs": [],
   "source": [
    "from tensorflow.keras.callbacks import EarlyStopping"
   ]
  },
  {
   "cell_type": "code",
   "execution_count": null,
   "metadata": {
    "ExecuteTime": {
     "end_time": "2022-10-20T18:05:02.795509Z",
     "start_time": "2022-10-20T18:05:02.795509Z"
    },
    "execution": {
     "iopub.execute_input": "2022-08-01T16:09:05.084050Z",
     "iopub.status.busy": "2022-08-01T16:09:05.082951Z",
     "iopub.status.idle": "2022-08-01T16:09:05.091431Z",
     "shell.execute_reply": "2022-08-01T16:09:05.088339Z",
     "shell.execute_reply.started": "2022-08-01T16:09:05.084010Z"
    }
   },
   "outputs": [],
   "source": [
    "early=EarlyStopping(monitor='val_accuracy',patience=5,restore_best_weights=True,verbose=1,min_delta=0.001)"
   ]
  },
  {
   "cell_type": "code",
   "execution_count": null,
   "metadata": {
    "ExecuteTime": {
     "end_time": "2022-10-20T18:05:02.796506Z",
     "start_time": "2022-10-20T18:05:02.796506Z"
    },
    "execution": {
     "iopub.execute_input": "2022-08-01T16:09:11.175463Z",
     "iopub.status.busy": "2022-08-01T16:09:11.175004Z",
     "iopub.status.idle": "2022-08-01T17:58:23.540687Z",
     "shell.execute_reply": "2022-08-01T17:58:23.539704Z",
     "shell.execute_reply.started": "2022-08-01T16:09:11.175403Z"
    }
   },
   "outputs": [],
   "source": [
    "history=model.fit(train_set,epochs=120,validation_data=test_set,batch_size=32)"
   ]
  },
  {
   "cell_type": "markdown",
   "metadata": {},
   "source": [
    "# Plotting the accuracy and losses epochwise"
   ]
  },
  {
   "cell_type": "code",
   "execution_count": null,
   "metadata": {
    "ExecuteTime": {
     "end_time": "2022-10-20T18:05:02.797502Z",
     "start_time": "2022-10-20T18:05:02.797502Z"
    },
    "execution": {
     "iopub.execute_input": "2022-08-01T18:07:52.459005Z",
     "iopub.status.busy": "2022-08-01T18:07:52.458638Z",
     "iopub.status.idle": "2022-08-01T18:07:52.465955Z",
     "shell.execute_reply": "2022-08-01T18:07:52.464646Z",
     "shell.execute_reply.started": "2022-08-01T18:07:52.458975Z"
    }
   },
   "outputs": [],
   "source": [
    "# we get the dictionary 'history'\n",
    "history.history.keys()"
   ]
  },
  {
   "cell_type": "code",
   "execution_count": null,
   "metadata": {
    "ExecuteTime": {
     "end_time": "2022-10-20T18:05:02.798501Z",
     "start_time": "2022-10-20T18:05:02.798501Z"
    },
    "execution": {
     "iopub.execute_input": "2022-08-01T18:07:52.477330Z",
     "iopub.status.busy": "2022-08-01T18:07:52.476460Z",
     "iopub.status.idle": "2022-08-01T18:07:52.482340Z",
     "shell.execute_reply": "2022-08-01T18:07:52.481527Z",
     "shell.execute_reply.started": "2022-08-01T18:07:52.477293Z"
    }
   },
   "outputs": [],
   "source": [
    "import matplotlib.pyplot as plt"
   ]
  },
  {
   "cell_type": "code",
   "execution_count": null,
   "metadata": {
    "ExecuteTime": {
     "end_time": "2022-10-20T18:05:02.799497Z",
     "start_time": "2022-10-20T18:05:02.799497Z"
    },
    "execution": {
     "iopub.execute_input": "2022-08-01T18:07:52.487574Z",
     "iopub.status.busy": "2022-08-01T18:07:52.487201Z",
     "iopub.status.idle": "2022-08-01T18:07:52.823236Z",
     "shell.execute_reply": "2022-08-01T18:07:52.822254Z",
     "shell.execute_reply.started": "2022-08-01T18:07:52.487538Z"
    }
   },
   "outputs": [],
   "source": [
    "fig,ax=plt.subplots(1,2,figsize=(10,5))\n",
    "\n",
    "ax[0].plot(history.history['loss'],label='training')\n",
    "ax[0].plot(history.history['val_loss'],label='validation')\n",
    "ax[0].legend()\n",
    "ax[0].set_title('Loss with epochs')\n",
    "\n",
    "ax[1].plot(history.history['accuracy'],label='training')\n",
    "ax[1].plot(history.history['val_accuracy'],label='validation')\n",
    "ax[1].legend()\n",
    "ax[1].set_title('Accuracy with epochs')"
   ]
  },
  {
   "cell_type": "markdown",
   "metadata": {},
   "source": [
    "# Saving the model"
   ]
  },
  {
   "cell_type": "code",
   "execution_count": null,
   "metadata": {
    "ExecuteTime": {
     "end_time": "2022-10-20T18:05:02.799497Z",
     "start_time": "2022-10-20T18:05:02.799497Z"
    },
    "execution": {
     "iopub.execute_input": "2022-08-01T18:07:52.825967Z",
     "iopub.status.busy": "2022-08-01T18:07:52.825300Z",
     "iopub.status.idle": "2022-08-01T18:07:54.732155Z",
     "shell.execute_reply": "2022-08-01T18:07:54.731021Z",
     "shell.execute_reply.started": "2022-08-01T18:07:52.825923Z"
    }
   },
   "outputs": [],
   "source": [
    "model.save('fer_abhigyan.h5')"
   ]
  },
  {
   "cell_type": "markdown",
   "metadata": {},
   "source": [
    "# Test Image"
   ]
  },
  {
   "cell_type": "code",
   "execution_count": null,
   "metadata": {
    "ExecuteTime": {
     "end_time": "2022-10-20T18:05:02.800496Z",
     "start_time": "2022-10-20T18:05:02.800496Z"
    },
    "execution": {
     "iopub.execute_input": "2022-08-01T18:07:54.739809Z",
     "iopub.status.busy": "2022-08-01T18:07:54.737259Z",
     "iopub.status.idle": "2022-08-01T18:07:54.746778Z",
     "shell.execute_reply": "2022-08-01T18:07:54.745540Z",
     "shell.execute_reply.started": "2022-08-01T18:07:54.739769Z"
    }
   },
   "outputs": [],
   "source": [
    "from tensorflow.keras.preprocessing import image"
   ]
  },
  {
   "cell_type": "code",
   "execution_count": null,
   "metadata": {
    "ExecuteTime": {
     "end_time": "2022-10-20T18:05:02.801492Z",
     "start_time": "2022-10-20T18:05:02.801492Z"
    },
    "execution": {
     "iopub.execute_input": "2022-08-01T18:11:25.738040Z",
     "iopub.status.busy": "2022-08-01T18:11:25.737665Z",
     "iopub.status.idle": "2022-08-01T18:11:25.745996Z",
     "shell.execute_reply": "2022-08-01T18:11:25.744944Z",
     "shell.execute_reply.started": "2022-08-01T18:11:25.738010Z"
    }
   },
   "outputs": [],
   "source": [
    "img_path='../input/fer2013/test/happy/PrivateTest_10736786.jpg'\n",
    "test_image=image.load_img(img_path,target_size=(72,72),color_mode='grayscale')"
   ]
  },
  {
   "cell_type": "code",
   "execution_count": null,
   "metadata": {
    "ExecuteTime": {
     "end_time": "2022-10-20T18:05:02.801492Z",
     "start_time": "2022-10-20T18:05:02.801492Z"
    },
    "execution": {
     "iopub.execute_input": "2022-08-01T18:11:25.816355Z",
     "iopub.status.busy": "2022-08-01T18:11:25.815690Z",
     "iopub.status.idle": "2022-08-01T18:11:25.824384Z",
     "shell.execute_reply": "2022-08-01T18:11:25.823459Z",
     "shell.execute_reply.started": "2022-08-01T18:11:25.816313Z"
    }
   },
   "outputs": [],
   "source": [
    "type(test_image)"
   ]
  },
  {
   "cell_type": "code",
   "execution_count": null,
   "metadata": {
    "ExecuteTime": {
     "end_time": "2022-10-20T18:05:02.802490Z",
     "start_time": "2022-10-20T18:05:02.802490Z"
    },
    "execution": {
     "iopub.execute_input": "2022-08-01T18:11:25.889536Z",
     "iopub.status.busy": "2022-08-01T18:11:25.888734Z",
     "iopub.status.idle": "2022-08-01T18:11:25.894985Z",
     "shell.execute_reply": "2022-08-01T18:11:25.893791Z",
     "shell.execute_reply.started": "2022-08-01T18:11:25.889489Z"
    }
   },
   "outputs": [],
   "source": [
    "test_image=image.img_to_array(test_image)"
   ]
  },
  {
   "cell_type": "code",
   "execution_count": null,
   "metadata": {
    "ExecuteTime": {
     "end_time": "2022-10-20T18:05:02.803487Z",
     "start_time": "2022-10-20T18:05:02.803487Z"
    },
    "execution": {
     "iopub.execute_input": "2022-08-01T18:11:25.936331Z",
     "iopub.status.busy": "2022-08-01T18:11:25.934530Z",
     "iopub.status.idle": "2022-08-01T18:11:26.114120Z",
     "shell.execute_reply": "2022-08-01T18:11:26.113135Z",
     "shell.execute_reply.started": "2022-08-01T18:11:25.936291Z"
    }
   },
   "outputs": [],
   "source": [
    "print(test_image.shape)\n",
    "plt.imshow(test_image)"
   ]
  },
  {
   "cell_type": "markdown",
   "metadata": {},
   "source": [
    "## Input to model : (batch_size,row,col,rgb) ---> (1,48,48,1) for 1 image"
   ]
  },
  {
   "cell_type": "code",
   "execution_count": null,
   "metadata": {
    "ExecuteTime": {
     "end_time": "2022-10-20T18:05:02.804485Z",
     "start_time": "2022-10-20T18:05:02.804485Z"
    },
    "execution": {
     "iopub.execute_input": "2022-08-01T18:11:26.116752Z",
     "iopub.status.busy": "2022-08-01T18:11:26.116349Z",
     "iopub.status.idle": "2022-08-01T18:11:26.122101Z",
     "shell.execute_reply": "2022-08-01T18:11:26.121158Z",
     "shell.execute_reply.started": "2022-08-01T18:11:26.116715Z"
    }
   },
   "outputs": [],
   "source": [
    "test_image=test_image.reshape(1,72,72,1)"
   ]
  },
  {
   "cell_type": "markdown",
   "metadata": {},
   "source": [
    "# Prediction"
   ]
  },
  {
   "cell_type": "code",
   "execution_count": null,
   "metadata": {
    "ExecuteTime": {
     "end_time": "2022-10-20T18:05:02.805482Z",
     "start_time": "2022-10-20T18:05:02.805482Z"
    },
    "execution": {
     "iopub.execute_input": "2022-08-01T18:11:26.124121Z",
     "iopub.status.busy": "2022-08-01T18:11:26.123512Z",
     "iopub.status.idle": "2022-08-01T18:11:26.132278Z",
     "shell.execute_reply": "2022-08-01T18:11:26.131397Z",
     "shell.execute_reply.started": "2022-08-01T18:11:26.124083Z"
    }
   },
   "outputs": [],
   "source": [
    "classes=['Angry','Disgust','Fear','Happy','Neutral','Sad','Surprise']"
   ]
  },
  {
   "cell_type": "code",
   "execution_count": null,
   "metadata": {
    "ExecuteTime": {
     "end_time": "2022-10-20T18:05:02.805482Z",
     "start_time": "2022-10-20T18:05:02.805482Z"
    },
    "execution": {
     "iopub.execute_input": "2022-08-01T18:11:26.135447Z",
     "iopub.status.busy": "2022-08-01T18:11:26.134680Z",
     "iopub.status.idle": "2022-08-01T18:11:26.182200Z",
     "shell.execute_reply": "2022-08-01T18:11:26.181239Z",
     "shell.execute_reply.started": "2022-08-01T18:11:26.135354Z"
    }
   },
   "outputs": [],
   "source": [
    "result=model.predict(test_image)"
   ]
  },
  {
   "cell_type": "code",
   "execution_count": null,
   "metadata": {
    "ExecuteTime": {
     "end_time": "2022-10-20T18:05:02.806479Z",
     "start_time": "2022-10-20T18:05:02.806479Z"
    },
    "execution": {
     "iopub.execute_input": "2022-08-01T18:11:26.184054Z",
     "iopub.status.busy": "2022-08-01T18:11:26.183705Z",
     "iopub.status.idle": "2022-08-01T18:11:26.190460Z",
     "shell.execute_reply": "2022-08-01T18:11:26.189433Z",
     "shell.execute_reply.started": "2022-08-01T18:11:26.184019Z"
    }
   },
   "outputs": [],
   "source": [
    "result[0]"
   ]
  },
  {
   "cell_type": "code",
   "execution_count": null,
   "metadata": {
    "ExecuteTime": {
     "end_time": "2022-10-20T18:05:02.807476Z",
     "start_time": "2022-10-20T18:05:02.807476Z"
    },
    "execution": {
     "iopub.execute_input": "2022-08-01T18:11:26.193369Z",
     "iopub.status.busy": "2022-08-01T18:11:26.192701Z",
     "iopub.status.idle": "2022-08-01T18:11:26.200401Z",
     "shell.execute_reply": "2022-08-01T18:11:26.199318Z",
     "shell.execute_reply.started": "2022-08-01T18:11:26.193328Z"
    }
   },
   "outputs": [],
   "source": [
    "y_pred=np.argmax(result[0])\n",
    "print('The person is ',classes[y_pred])"
   ]
  },
  {
   "cell_type": "code",
   "execution_count": null,
   "metadata": {},
   "outputs": [],
   "source": []
  },
  {
   "cell_type": "code",
   "execution_count": null,
   "metadata": {},
   "outputs": [],
   "source": []
  },
  {
   "cell_type": "code",
   "execution_count": null,
   "metadata": {},
   "outputs": [],
   "source": []
  },
  {
   "cell_type": "code",
   "execution_count": null,
   "metadata": {},
   "outputs": [],
   "source": []
  },
  {
   "cell_type": "code",
   "execution_count": null,
   "metadata": {},
   "outputs": [],
   "source": []
  },
  {
   "cell_type": "code",
   "execution_count": null,
   "metadata": {},
   "outputs": [],
   "source": []
  }
 ],
 "metadata": {
  "kernelspec": {
   "display_name": "Python 3 (ipykernel)",
   "language": "python",
   "name": "python3"
  },
  "language_info": {
   "codemirror_mode": {
    "name": "ipython",
    "version": 3
   },
   "file_extension": ".py",
   "mimetype": "text/x-python",
   "name": "python",
   "nbconvert_exporter": "python",
   "pygments_lexer": "ipython3",
   "version": "3.9.7"
  }
 },
 "nbformat": 4,
 "nbformat_minor": 4
}
