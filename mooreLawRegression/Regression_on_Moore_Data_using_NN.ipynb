{
  "nbformat": 4,
  "nbformat_minor": 0,
  "metadata": {
    "colab": {
      "provenance": [],
      "authorship_tag": "ABX9TyPM4fml85HIksjZImP5QH/s",
      "include_colab_link": true
    },
    "kernelspec": {
      "name": "python3",
      "display_name": "Python 3"
    },
    "language_info": {
      "name": "python"
    }
  },
  "cells": [
    {
      "cell_type": "markdown",
      "metadata": {
        "id": "view-in-github",
        "colab_type": "text"
      },
      "source": [
        "<a href=\"https://colab.research.google.com/github/AhmedAchraf2001/DL-projects/blob/main/mooreLawRegression/Regression_on_Moore_Data_using_NN.ipynb\" target=\"_parent\"><img src=\"https://colab.research.google.com/assets/colab-badge.svg\" alt=\"Open In Colab\"/></a>"
      ]
    },
    {
      "cell_type": "code",
      "source": [
        "import tensorflow as tf\n",
        "import pandas as pd\n",
        "import numpy as np\n",
        "import matplotlib.pyplot as plt"
      ],
      "metadata": {
        "id": "52Ou9hGB0liA"
      },
      "execution_count": null,
      "outputs": []
    },
    {
      "cell_type": "code",
      "execution_count": null,
      "metadata": {
        "colab": {
          "base_uri": "https://localhost:8080/"
        },
        "id": "YVQunvDm0Orm",
        "outputId": "eb3e0928-02da-48bf-a8ab-ee3016caf327"
      },
      "outputs": [
        {
          "output_type": "stream",
          "name": "stdout",
          "text": [
            "--2023-06-23 12:04:29--  https://raw.githubusercontent.com/lazyprogrammer/machine_learning_examples/master/tf2.0/moore.csv\n",
            "Resolving raw.githubusercontent.com (raw.githubusercontent.com)... 185.199.110.133, 185.199.109.133, 185.199.108.133, ...\n",
            "Connecting to raw.githubusercontent.com (raw.githubusercontent.com)|185.199.110.133|:443... connected.\n",
            "HTTP request sent, awaiting response... 200 OK\n",
            "Length: 2302 (2.2K) [text/plain]\n",
            "Saving to: ‘moore.csv.2’\n",
            "\n",
            "\rmoore.csv.2           0%[                    ]       0  --.-KB/s               \rmoore.csv.2         100%[===================>]   2.25K  --.-KB/s    in 0s      \n",
            "\n",
            "2023-06-23 12:04:29 (30.6 MB/s) - ‘moore.csv.2’ saved [2302/2302]\n",
            "\n"
          ]
        }
      ],
      "source": [
        "!wget https://raw.githubusercontent.com/lazyprogrammer/machine_learning_examples/master/tf2.0/moore.csv"
      ]
    },
    {
      "cell_type": "code",
      "source": [
        "# another way to get data from web\n",
        "# url = \"https://raw.githubusercontent.com/lazyprogrammer/machine_learning_examples/master/tf2.0/moore.csv\"\n",
        "# tf.keras.utils.get_file('moore.csv', url)"
      ],
      "metadata": {
        "id": "HO8NJqkA0aIf"
      },
      "execution_count": null,
      "outputs": []
    },
    {
      "cell_type": "code",
      "source": [
        "!ls"
      ],
      "metadata": {
        "colab": {
          "base_uri": "https://localhost:8080/"
        },
        "id": "LV7Bb_VV1Ic_",
        "outputId": "ace39787-19f8-41c5-e1ea-a91e40ce8e9d"
      },
      "execution_count": null,
      "outputs": [
        {
          "output_type": "stream",
          "name": "stdout",
          "text": [
            "moore.csv  moore.csv.1\tmoore.csv.2  sample_data\n"
          ]
        }
      ]
    },
    {
      "cell_type": "code",
      "source": [
        "!head moore.csv"
      ],
      "metadata": {
        "colab": {
          "base_uri": "https://localhost:8080/"
        },
        "id": "R9AL8uid1JYv",
        "outputId": "5fb3c01e-4dc0-47a0-cdbd-006224850060"
      },
      "execution_count": null,
      "outputs": [
        {
          "output_type": "stream",
          "name": "stdout",
          "text": [
            "1971,2300\n",
            "1972,3500\n",
            "1973,2500\n",
            "1973,2500\n",
            "1974,4100\n",
            "1974,4500\n",
            "1974,8000\n",
            "1975,3510\n",
            "1976,5000\n",
            "1976,8500\n"
          ]
        }
      ]
    },
    {
      "cell_type": "code",
      "source": [
        "data = pd.read_csv(\"moore.csv\", header=None, names=['year', 'number'])"
      ],
      "metadata": {
        "id": "wj1O78fI1MnH"
      },
      "execution_count": null,
      "outputs": []
    },
    {
      "cell_type": "code",
      "source": [
        "data.shape"
      ],
      "metadata": {
        "colab": {
          "base_uri": "https://localhost:8080/"
        },
        "id": "1aWdGn_-1WZH",
        "outputId": "4d3f127e-f9c2-49ff-9e1c-e2ad31be79f4"
      },
      "execution_count": null,
      "outputs": [
        {
          "output_type": "execute_result",
          "data": {
            "text/plain": [
              "(162, 2)"
            ]
          },
          "metadata": {},
          "execution_count": 8
        }
      ]
    },
    {
      "cell_type": "code",
      "source": [
        "plt.scatter(data['year'], data['number'])"
      ],
      "metadata": {
        "colab": {
          "base_uri": "https://localhost:8080/",
          "height": 463
        },
        "id": "QnYRKfTC1d0g",
        "outputId": "990015a5-07c0-4c3e-b6ea-0ab4866925ea"
      },
      "execution_count": null,
      "outputs": [
        {
          "output_type": "execute_result",
          "data": {
            "text/plain": [
              "<matplotlib.collections.PathCollection at 0x7f65d5366530>"
            ]
          },
          "metadata": {},
          "execution_count": 9
        },
        {
          "output_type": "display_data",
          "data": {
            "text/plain": [
              "<Figure size 640x480 with 1 Axes>"
            ],
            "image/png": "[encoded data removed]"
          },
          "metadata": {}
        }
      ]
    },
    {
      "cell_type": "code",
      "source": [
        "data['number'] = data['number'].apply(np.log)"
      ],
      "metadata": {
        "id": "SXsxO9FB1jbg"
      },
      "execution_count": null,
      "outputs": []
    },
    {
      "cell_type": "code",
      "source": [
        "X = data.year\n",
        "y = data.number"
      ],
      "metadata": {
        "id": "fvJ1zV2xG8xf"
      },
      "execution_count": null,
      "outputs": []
    },
    {
      "cell_type": "code",
      "source": [
        "X = X - X.mean()"
      ],
      "metadata": {
        "id": "YDfgt5fC3jNQ"
      },
      "execution_count": null,
      "outputs": []
    },
    {
      "cell_type": "code",
      "source": [
        "model = tf.keras.models.Sequential([\n",
        "    tf.keras.layers.Input(1),\n",
        "    # tf.keras.layers.Dense(3),\n",
        "    # tf.keras.layers.Dense(3),\n",
        "    tf.keras.layers.Dense(1),\n",
        "])"
      ],
      "metadata": {
        "id": "aciv-4l04e1w"
      },
      "execution_count": null,
      "outputs": []
    },
    {
      "cell_type": "code",
      "source": [
        "model.compile(optimizer=tf.keras.optimizers.SGD(0.001, 0.9), loss='mse')"
      ],
      "metadata": {
        "id": "RCfYujI75H4Z"
      },
      "execution_count": null,
      "outputs": []
    },
    {
      "cell_type": "code",
      "source": [
        "def schedule(epoch, lr):\n",
        "  if epoch >= 50 :\n",
        "    return 0.0001\n",
        "  return 0.001\n",
        "\n",
        "scheduler = tf.keras.callbacks.LearningRateScheduler(schedule)"
      ],
      "metadata": {
        "id": "5zxzgaXPFluF"
      },
      "execution_count": null,
      "outputs": []
    },
    {
      "cell_type": "code",
      "source": [
        "fit = model.fit(X, y, epochs=100, callbacks= [scheduler])"
      ],
      "metadata": {
        "id": "Bd1JcnY251Zh",
        "colab": {
          "base_uri": "https://localhost:8080/"
        },
        "outputId": "97a5214d-e6e5-41e4-ea47-9a3bde2d5f89"
      },
      "execution_count": null,
      "outputs": [
        {
          "output_type": "stream",
          "name": "stdout",
          "text": [
            "Epoch 1/100\n",
            "6/6 [==============================] - 1s 5ms/step - loss: 340.5199 - lr: 0.0010\n",
            "Epoch 2/100\n",
            "6/6 [==============================] - 0s 5ms/step - loss: 295.6808 - lr: 0.0010\n",
            "Epoch 3/100\n",
            "6/6 [==============================] - 0s 5ms/step - loss: 245.0760 - lr: 0.0010\n",
            "Epoch 4/100\n",
            "6/6 [==============================] - 0s 5ms/step - loss: 204.9480 - lr: 0.0010\n",
            "Epoch 5/100\n",
            "6/6 [==============================] - 0s 6ms/step - loss: 162.1566 - lr: 0.0010\n",
            "Epoch 6/100\n",
            "6/6 [==============================] - 0s 8ms/step - loss: 134.4909 - lr: 0.0010\n",
            "Epoch 7/100\n",
            "6/6 [==============================] - 0s 4ms/step - loss: 128.5429 - lr: 0.0010\n",
            "Epoch 8/100\n",
            "6/6 [==============================] - 0s 5ms/step - loss: 111.7491 - lr: 0.0010\n",
            "Epoch 9/100\n",
            "6/6 [==============================] - 0s 7ms/step - loss: 66.5335 - lr: 0.0010\n",
            "Epoch 10/100\n",
            "6/6 [==============================] - 0s 4ms/step - loss: 40.3994 - lr: 0.0010\n",
            "Epoch 11/100\n",
            "6/6 [==============================] - 0s 4ms/step - loss: 27.8911 - lr: 0.0010\n",
            "Epoch 12/100\n",
            "6/6 [==============================] - 0s 4ms/step - loss: 23.7560 - lr: 0.0010\n",
            "Epoch 13/100\n",
            "6/6 [==============================] - 0s 4ms/step - loss: 23.4522 - lr: 0.0010\n",
            "Epoch 14/100\n",
            "6/6 [==============================] - 0s 4ms/step - loss: 12.6280 - lr: 0.0010\n",
            "Epoch 15/100\n",
            "6/6 [==============================] - 0s 4ms/step - loss: 9.7340 - lr: 0.0010\n",
            "Epoch 16/100\n",
            "6/6 [==============================] - 0s 4ms/step - loss: 7.3116 - lr: 0.0010\n",
            "Epoch 17/100\n",
            "6/6 [==============================] - 0s 3ms/step - loss: 5.3378 - lr: 0.0010\n",
            "Epoch 18/100\n",
            "6/6 [==============================] - 0s 4ms/step - loss: 4.2118 - lr: 0.0010\n",
            "Epoch 19/100\n",
            "6/6 [==============================] - 0s 4ms/step - loss: 3.6892 - lr: 0.0010\n",
            "Epoch 20/100\n",
            "6/6 [==============================] - 0s 10ms/step - loss: 3.3218 - lr: 0.0010\n",
            "Epoch 21/100\n",
            "6/6 [==============================] - 0s 5ms/step - loss: 2.3651 - lr: 0.0010\n",
            "Epoch 22/100\n",
            "6/6 [==============================] - 0s 5ms/step - loss: 7.1244 - lr: 0.0010\n",
            "Epoch 23/100\n",
            "6/6 [==============================] - 0s 6ms/step - loss: 6.8855 - lr: 0.0010\n",
            "Epoch 24/100\n",
            "6/6 [==============================] - 0s 4ms/step - loss: 6.1458 - lr: 0.0010\n",
            "Epoch 25/100\n",
            "6/6 [==============================] - 0s 9ms/step - loss: 3.5047 - lr: 0.0010\n",
            "Epoch 26/100\n",
            "6/6 [==============================] - 0s 9ms/step - loss: 2.0933 - lr: 0.0010\n",
            "Epoch 27/100\n",
            "6/6 [==============================] - 0s 13ms/step - loss: 3.4100 - lr: 0.0010\n",
            "Epoch 28/100\n",
            "6/6 [==============================] - 0s 6ms/step - loss: 4.8986 - lr: 0.0010\n",
            "Epoch 29/100\n",
            "6/6 [==============================] - 0s 5ms/step - loss: 3.3383 - lr: 0.0010\n",
            "Epoch 30/100\n",
            "6/6 [==============================] - 0s 5ms/step - loss: 2.6678 - lr: 0.0010\n",
            "Epoch 31/100\n",
            "6/6 [==============================] - 0s 4ms/step - loss: 1.5018 - lr: 0.0010\n",
            "Epoch 32/100\n",
            "6/6 [==============================] - 0s 4ms/step - loss: 5.3837 - lr: 0.0010\n",
            "Epoch 33/100\n",
            "6/6 [==============================] - 0s 7ms/step - loss: 3.9730 - lr: 0.0010\n",
            "Epoch 34/100\n",
            "6/6 [==============================] - 0s 5ms/step - loss: 1.8809 - lr: 0.0010\n",
            "Epoch 35/100\n",
            "6/6 [==============================] - 0s 4ms/step - loss: 1.3119 - lr: 0.0010\n",
            "Epoch 36/100\n",
            "6/6 [==============================] - 0s 5ms/step - loss: 1.0290 - lr: 0.0010\n",
            "Epoch 37/100\n",
            "6/6 [==============================] - 0s 4ms/step - loss: 1.0328 - lr: 0.0010\n",
            "Epoch 38/100\n",
            "6/6 [==============================] - 0s 6ms/step - loss: 1.0343 - lr: 0.0010\n",
            "Epoch 39/100\n",
            "6/6 [==============================] - 0s 6ms/step - loss: 1.0215 - lr: 0.0010\n",
            "Epoch 40/100\n",
            "6/6 [==============================] - 0s 9ms/step - loss: 1.2175 - lr: 0.0010\n",
            "Epoch 41/100\n",
            "6/6 [==============================] - 0s 5ms/step - loss: 2.4219 - lr: 0.0010\n",
            "Epoch 42/100\n",
            "6/6 [==============================] - 0s 10ms/step - loss: 2.1459 - lr: 0.0010\n",
            "Epoch 43/100\n",
            "6/6 [==============================] - 0s 7ms/step - loss: 1.3532 - lr: 0.0010\n",
            "Epoch 44/100\n",
            "6/6 [==============================] - 0s 4ms/step - loss: 1.0587 - lr: 0.0010\n",
            "Epoch 45/100\n",
            "6/6 [==============================] - 0s 7ms/step - loss: 0.8719 - lr: 0.0010\n",
            "Epoch 46/100\n",
            "6/6 [==============================] - 0s 6ms/step - loss: 0.8973 - lr: 0.0010\n",
            "Epoch 47/100\n",
            "6/6 [==============================] - 0s 8ms/step - loss: 0.8854 - lr: 0.0010\n",
            "Epoch 48/100\n",
            "6/6 [==============================] - 0s 6ms/step - loss: 1.3144 - lr: 0.0010\n",
            "Epoch 49/100\n",
            "6/6 [==============================] - 0s 5ms/step - loss: 1.5097 - lr: 0.0010\n",
            "Epoch 50/100\n",
            "6/6 [==============================] - 0s 12ms/step - loss: 1.5017 - lr: 0.0010\n",
            "Epoch 51/100\n",
            "6/6 [==============================] - 0s 7ms/step - loss: 2.3135 - lr: 1.0000e-04\n",
            "Epoch 52/100\n",
            "6/6 [==============================] - 0s 6ms/step - loss: 6.1314 - lr: 1.0000e-04\n",
            "Epoch 53/100\n",
            "6/6 [==============================] - 0s 5ms/step - loss: 2.3521 - lr: 1.0000e-04\n",
            "Epoch 54/100\n",
            "6/6 [==============================] - 0s 4ms/step - loss: 1.1481 - lr: 1.0000e-04\n",
            "Epoch 55/100\n",
            "6/6 [==============================] - 0s 11ms/step - loss: 1.5660 - lr: 1.0000e-04\n",
            "Epoch 56/100\n",
            "6/6 [==============================] - 0s 8ms/step - loss: 1.0084 - lr: 1.0000e-04\n",
            "Epoch 57/100\n",
            "6/6 [==============================] - 0s 6ms/step - loss: 0.9240 - lr: 1.0000e-04\n",
            "Epoch 58/100\n",
            "6/6 [==============================] - 0s 5ms/step - loss: 0.9211 - lr: 1.0000e-04\n",
            "Epoch 59/100\n",
            "6/6 [==============================] - 0s 4ms/step - loss: 0.8837 - lr: 1.0000e-04\n",
            "Epoch 60/100\n",
            "6/6 [==============================] - 0s 4ms/step - loss: 0.8728 - lr: 1.0000e-04\n",
            "Epoch 61/100\n",
            "6/6 [==============================] - 0s 4ms/step - loss: 0.8866 - lr: 1.0000e-04\n",
            "Epoch 62/100\n",
            "6/6 [==============================] - 0s 4ms/step - loss: 0.8753 - lr: 1.0000e-04\n",
            "Epoch 63/100\n",
            "6/6 [==============================] - 0s 9ms/step - loss: 0.8743 - lr: 1.0000e-04\n",
            "Epoch 64/100\n",
            "6/6 [==============================] - 0s 4ms/step - loss: 0.8784 - lr: 1.0000e-04\n",
            "Epoch 65/100\n",
            "6/6 [==============================] - 0s 4ms/step - loss: 0.8665 - lr: 1.0000e-04\n",
            "Epoch 66/100\n",
            "6/6 [==============================] - 0s 7ms/step - loss: 0.8732 - lr: 1.0000e-04\n",
            "Epoch 67/100\n",
            "6/6 [==============================] - 0s 4ms/step - loss: 0.8724 - lr: 1.0000e-04\n",
            "Epoch 68/100\n",
            "6/6 [==============================] - 0s 4ms/step - loss: 0.8741 - lr: 1.0000e-04\n",
            "Epoch 69/100\n",
            "6/6 [==============================] - 0s 4ms/step - loss: 0.8734 - lr: 1.0000e-04\n",
            "Epoch 70/100\n",
            "6/6 [==============================] - 0s 6ms/step - loss: 0.8728 - lr: 1.0000e-04\n",
            "Epoch 71/100\n",
            "6/6 [==============================] - 0s 5ms/step - loss: 0.8756 - lr: 1.0000e-04\n",
            "Epoch 72/100\n",
            "6/6 [==============================] - 0s 8ms/step - loss: 0.8957 - lr: 1.0000e-04\n",
            "Epoch 73/100\n",
            "6/6 [==============================] - 0s 4ms/step - loss: 0.8899 - lr: 1.0000e-04\n",
            "Epoch 74/100\n",
            "6/6 [==============================] - 0s 7ms/step - loss: 0.8719 - lr: 1.0000e-04\n",
            "Epoch 75/100\n",
            "6/6 [==============================] - 0s 4ms/step - loss: 0.8774 - lr: 1.0000e-04\n",
            "Epoch 76/100\n",
            "6/6 [==============================] - 0s 7ms/step - loss: 0.8867 - lr: 1.0000e-04\n",
            "Epoch 77/100\n",
            "6/6 [==============================] - 0s 8ms/step - loss: 0.8751 - lr: 1.0000e-04\n",
            "Epoch 78/100\n",
            "6/6 [==============================] - 0s 7ms/step - loss: 0.8732 - lr: 1.0000e-04\n",
            "Epoch 79/100\n",
            "6/6 [==============================] - 0s 7ms/step - loss: 0.8825 - lr: 1.0000e-04\n",
            "Epoch 80/100\n",
            "6/6 [==============================] - 0s 5ms/step - loss: 0.8961 - lr: 1.0000e-04\n",
            "Epoch 81/100\n",
            "6/6 [==============================] - 0s 6ms/step - loss: 0.8802 - lr: 1.0000e-04\n",
            "Epoch 82/100\n",
            "6/6 [==============================] - 0s 8ms/step - loss: 0.8697 - lr: 1.0000e-04\n",
            "Epoch 83/100\n",
            "6/6 [==============================] - 0s 7ms/step - loss: 0.8840 - lr: 1.0000e-04\n",
            "Epoch 84/100\n",
            "6/6 [==============================] - 0s 10ms/step - loss: 0.8858 - lr: 1.0000e-04\n",
            "Epoch 85/100\n",
            "6/6 [==============================] - 0s 10ms/step - loss: 0.8730 - lr: 1.0000e-04\n",
            "Epoch 86/100\n",
            "6/6 [==============================] - 0s 5ms/step - loss: 0.8749 - lr: 1.0000e-04\n",
            "Epoch 87/100\n",
            "6/6 [==============================] - 0s 5ms/step - loss: 0.8714 - lr: 1.0000e-04\n",
            "Epoch 88/100\n",
            "6/6 [==============================] - 0s 8ms/step - loss: 0.8804 - lr: 1.0000e-04\n",
            "Epoch 89/100\n",
            "6/6 [==============================] - 0s 5ms/step - loss: 0.8805 - lr: 1.0000e-04\n",
            "Epoch 90/100\n",
            "6/6 [==============================] - 0s 7ms/step - loss: 0.8726 - lr: 1.0000e-04\n",
            "Epoch 91/100\n",
            "6/6 [==============================] - 0s 11ms/step - loss: 0.8898 - lr: 1.0000e-04\n",
            "Epoch 92/100\n",
            "6/6 [==============================] - 0s 10ms/step - loss: 0.9101 - lr: 1.0000e-04\n",
            "Epoch 93/100\n",
            "6/6 [==============================] - 0s 10ms/step - loss: 0.8769 - lr: 1.0000e-04\n",
            "Epoch 94/100\n",
            "6/6 [==============================] - 0s 7ms/step - loss: 0.8800 - lr: 1.0000e-04\n",
            "Epoch 95/100\n",
            "6/6 [==============================] - 0s 5ms/step - loss: 0.8825 - lr: 1.0000e-04\n",
            "Epoch 96/100\n",
            "6/6 [==============================] - 0s 6ms/step - loss: 0.8722 - lr: 1.0000e-04\n",
            "Epoch 97/100\n",
            "6/6 [==============================] - 0s 5ms/step - loss: 0.8690 - lr: 1.0000e-04\n",
            "Epoch 98/100\n",
            "6/6 [==============================] - 0s 6ms/step - loss: 0.8800 - lr: 1.0000e-04\n",
            "Epoch 99/100\n",
            "6/6 [==============================] - 0s 10ms/step - loss: 0.8981 - lr: 1.0000e-04\n",
            "Epoch 100/100\n",
            "6/6 [==============================] - 0s 9ms/step - loss: 0.8763 - lr: 1.0000e-04\n"
          ]
        }
      ]
    },
    {
      "cell_type": "code",
      "source": [
        "plt.plot(fit.history['loss'], label='loss')\n",
        "plt.legend()"
      ],
      "metadata": {
        "colab": {
          "base_uri": "https://localhost:8080/",
          "height": 448
        },
        "id": "_I27xqYV6BX7",
        "outputId": "a0939ef4-1d36-40e3-bc5b-9e3595e10c7b"
      },
      "execution_count": null,
      "outputs": [
        {
          "output_type": "execute_result",
          "data": {
            "text/plain": [
              "<matplotlib.legend.Legend at 0x7f65d53f58d0>"
            ]
          },
          "metadata": {},
          "execution_count": 18
        },
        {
          "output_type": "display_data",
          "data": {
            "text/plain": [
              "<Figure size 640x480 with 1 Axes>"
            ],
            "image/png": "[encoded data removed]"
          },
          "metadata": {}
        }
      ]
    }
  ]
}