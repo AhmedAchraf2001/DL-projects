{
 "cells": [
  {
   "cell_type": "code",
   "execution_count": 1,
   "id": "70b0ccab",
   "metadata": {
    "ExecuteTime": {
     "end_time": "2022-10-20T17:10:40.590275Z",
     "start_time": "2022-10-20T17:10:35.302651Z"
    }
   },
   "outputs": [],
   "source": [
    "import numpy as np \n",
    "import matplotlib as plt\n",
    "import tensorflow as tf \n",
    "from tensorflow.keras import layers ,models ,Sequential\n",
    "from tensorflow.keras.models import Model\n",
    "from tensorflow.keras.preprocessing.image import ImageDataGenerator ,load_img ,img_to_array\n",
    "from tensorflow.keras.applications.resnet50 import preprocess_input , decode_predictions,ResNet50\n",
    "from tensorflow.keras.layers import Conv2D,Flatten,Dense,MaxPool2D,BatchNormalization,GlobalAveragePooling2D"
   ]
  },
  {
   "cell_type": "code",
   "execution_count": 12,
   "id": "b0368f7a",
   "metadata": {
    "ExecuteTime": {
     "end_time": "2022-10-20T17:15:41.250105Z",
     "start_time": "2022-10-20T17:15:41.247100Z"
    }
   },
   "outputs": [],
   "source": [
    "#Putting data into variables\n",
    "img_height, img_width = (64,64)\n",
    "batch_size= 32\n",
    "train_data = f\"X:/AI/datasets/skinCancer/HAM10000_images_part_1\"\n",
    "test_data = f\"X:/AI/datasets/skinCancer/HAM10000_images_part_2\""
   ]
  },
  {
   "cell_type": "code",
   "execution_count": 13,
   "id": "2694e174",
   "metadata": {
    "ExecuteTime": {
     "end_time": "2022-10-20T17:15:41.873415Z",
     "start_time": "2022-10-20T17:15:41.607110Z"
    }
   },
   "outputs": [
    {
     "name": "stdout",
     "output_type": "stream",
     "text": [
      "Found 0 images belonging to 0 classes.\n",
      "Found 0 images belonging to 0 classes.\n"
     ]
    }
   ],
   "source": [
    "#Divide into testing, training and validation\n",
    "train_data_1 = ImageDataGenerator(preprocessing_function=preprocess_input,\n",
    "                                  shear_range=0.2,\n",
    "                                  zoom_range=0.2,\n",
    "                                  horizontal_flip=True,\n",
    "                                  validation_split=0.4)\n",
    "train_img = train_data_1.flow_from_directory(train_data,\n",
    "                                               target_size=(img_height,img_width),\n",
    "                                               batch_size=batch_size,\n",
    "                                               class_mode=\"categorical\")\n",
    "test_img = train_data_1.flow_from_directory(test_data,\n",
    "                                               target_size=(img_height,img_width),\n",
    "                                               batch_size=batch_size,\n",
    "                                               class_mode=\"categorical\")"
   ]
  },
  {
   "cell_type": "code",
   "execution_count": null,
   "id": "0918d1f5",
   "metadata": {
    "ExecuteTime": {
     "end_time": "2022-10-20T17:10:41.914347Z",
     "start_time": "2022-10-20T17:10:41.914347Z"
    }
   },
   "outputs": [],
   "source": [
    "x,y = test_img.next()\n",
    "x.shape"
   ]
  },
  {
   "cell_type": "code",
   "execution_count": null,
   "id": "69777084",
   "metadata": {
    "ExecuteTime": {
     "end_time": "2022-10-20T17:10:41.914347Z",
     "start_time": "2022-10-20T17:10:41.914347Z"
    }
   },
   "outputs": [],
   "source": [
    "#Creating and training neural networks\n",
    "model_cs = ResNet50(include_top=False,weights=\"imagenet\")\n",
    "x = model_cs.output\n",
    "x = GlobalAveragePooling2D()(x)\n",
    "x = Dense(1024,activation=\"relu\")(x)\n",
    "pred = Dense(train_img.num_classes,activation='softmax')(x)\n",
    "model = Model(inputs=model_cs.input,outputs=pred)\n",
    "for layer in model_cs.layers:\n",
    "    layer.trainable = False\n",
    "model.compile(optimizer='adam',loss='categorical_crossentropy',metrics=['accuracy'])\n",
    "model.fit(train_img, epochs=10)"
   ]
  },
  {
   "cell_type": "code",
   "execution_count": null,
   "id": "e77e8435",
   "metadata": {
    "ExecuteTime": {
     "end_time": "2022-10-20T17:10:41.915313Z",
     "start_time": "2022-10-20T17:10:41.915313Z"
    }
   },
   "outputs": [],
   "source": [
    "model.evaluate(test_img)"
   ]
  },
  {
   "cell_type": "code",
   "execution_count": null,
   "id": "5d993654",
   "metadata": {
    "ExecuteTime": {
     "end_time": "2022-10-20T17:10:41.916309Z",
     "start_time": "2022-10-20T17:10:41.916309Z"
    }
   },
   "outputs": [],
   "source": [
    "cnn = Sequential([\n",
    "                  layers.Conv2D(32, (2,2), activation='relu', input_shape=(64, 64, 3)),\n",
    "                  layers.MaxPooling2D(3,3),\n",
    "                  layers.Conv2D(64, kernel_size=(3,3),activation='relu',kernel_initializer='he_normal'),\n",
    "                  layers.MaxPooling2D(2,2),\n",
    "                  #layers.Conv2D(64, (2, 2), activation='relu'),\n",
    "                  layers.Conv2D(64, kernel_size=(2,2),activation='relu',kernel_initializer='he_normal'),\n",
    "                  layers.MaxPooling2D(2,2),\n",
    "                  layers.Flatten(),\n",
    "                  layers.Dense(128,activation='relu'),\n",
    "                  layers.Dense(2,activation='softmax',kernel_initializer='glorot_normal')\n",
    "                  \n",
    "])\n",
    "cnn.compile(optimizer='adam',loss='categorical_crossentropy',metrics=['accuracy'])\n",
    "cnn.fit(train_img, epochs=6)"
   ]
  },
  {
   "cell_type": "code",
   "execution_count": null,
   "id": "53c1b340",
   "metadata": {
    "ExecuteTime": {
     "end_time": "2022-10-20T17:10:41.917307Z",
     "start_time": "2022-10-20T17:10:41.917307Z"
    }
   },
   "outputs": [],
   "source": [
    "cnn.evaluate(test_img)"
   ]
  },
  {
   "cell_type": "code",
   "execution_count": null,
   "id": "8ad0ac9f",
   "metadata": {},
   "outputs": [],
   "source": []
  },
  {
   "cell_type": "code",
   "execution_count": null,
   "id": "0f0f218f",
   "metadata": {
    "ExecuteTime": {
     "end_time": "2022-10-20T17:10:41.918305Z",
     "start_time": "2022-10-20T17:10:41.918305Z"
    }
   },
   "outputs": [],
   "source": [
    "test_image = load_img('54.jpg', target_size = (64, 64))\n",
    "test_image = img_to_array(test_image)\n",
    "test_image = np.expand_dims(test_image, axis = 0)\n",
    "result = cnn.predict(test_image)\n",
    "#training_set.class_indices\n",
    "if result[0][0] == 1:\n",
    "    prediction = 'benign'\n",
    "else:\n",
    "    prediction = 'malignant'\n",
    "prediction"
   ]
  },
  {
   "cell_type": "code",
   "execution_count": null,
   "id": "199f3673",
   "metadata": {
    "ExecuteTime": {
     "end_time": "2022-10-20T17:10:41.918305Z",
     "start_time": "2022-10-20T17:10:41.918305Z"
    }
   },
   "outputs": [],
   "source": [
    "test_image = load_img('3.jpg', target_size = (64, 64))\n",
    "test_image = img_to_array(test_image)\n",
    "test_image = np.expand_dims(test_image, axis = 0)\n",
    "result = cnn.predict(test_image)\n",
    "#training_set.class_indices\n",
    "if result[0][0] == 1:\n",
    "    prediction = 'benign'\n",
    "else:\n",
    "    prediction = 'malignant'\n",
    "prediction"
   ]
  },
  {
   "cell_type": "code",
   "execution_count": null,
   "id": "fe1cb9c8",
   "metadata": {},
   "outputs": [],
   "source": []
  }
 ],
 "metadata": {
  "kernelspec": {
   "display_name": "Python 3 (ipykernel)",
   "language": "python",
   "name": "python3"
  },
  "language_info": {
   "codemirror_mode": {
    "name": "ipython",
    "version": 3
   },
   "file_extension": ".py",
   "mimetype": "text/x-python",
   "name": "python",
   "nbconvert_exporter": "python",
   "pygments_lexer": "ipython3",
   "version": "3.9.7"
  }
 },
 "nbformat": 4,
 "nbformat_minor": 5
}
